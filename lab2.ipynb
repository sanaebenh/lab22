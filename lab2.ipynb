{
  "nbformat": 4,
  "nbformat_minor": 0,
  "metadata": {
    "colab": {
      "provenance": [],
      "gpuType": "T4",
      "include_colab_link": true
    },
    "kernelspec": {
      "name": "python3",
      "display_name": "Python 3"
    },
    "language_info": {
      "name": "python"
    },
    "accelerator": "GPU"
  },
  "cells": [
    {
      "cell_type": "markdown",
      "metadata": {
        "id": "view-in-github",
        "colab_type": "text"
      },
      "source": [
        "<a href=\"https://colab.research.google.com/github/sanaebenh/lab22/blob/main/lab2.ipynb\" target=\"_parent\"><img src=\"https://colab.research.google.com/assets/colab-badge.svg\" alt=\"Open In Colab\"/></a>"
      ]
    },
    {
      "cell_type": "code",
      "execution_count": null,
      "metadata": {
        "colab": {
          "base_uri": "https://localhost:8080/"
        },
        "id": "I7xtrGdvZUZi",
        "outputId": "6d8f7eaa-3e8d-4a8c-fcfb-75f92209d028"
      },
      "outputs": [
        {
          "output_type": "stream",
          "name": "stdout",
          "text": [
            "Requirement already satisfied: torch in /usr/local/lib/python3.10/dist-packages (2.5.1+cu121)\n",
            "Requirement already satisfied: torchvision in /usr/local/lib/python3.10/dist-packages (0.20.1+cu121)\n",
            "Requirement already satisfied: filelock in /usr/local/lib/python3.10/dist-packages (from torch) (3.16.1)\n",
            "Requirement already satisfied: typing-extensions>=4.8.0 in /usr/local/lib/python3.10/dist-packages (from torch) (4.12.2)\n",
            "Requirement already satisfied: networkx in /usr/local/lib/python3.10/dist-packages (from torch) (3.4.2)\n",
            "Requirement already satisfied: jinja2 in /usr/local/lib/python3.10/dist-packages (from torch) (3.1.4)\n",
            "Requirement already satisfied: fsspec in /usr/local/lib/python3.10/dist-packages (from torch) (2024.10.0)\n",
            "Requirement already satisfied: sympy==1.13.1 in /usr/local/lib/python3.10/dist-packages (from torch) (1.13.1)\n",
            "Requirement already satisfied: mpmath<1.4,>=1.1.0 in /usr/local/lib/python3.10/dist-packages (from sympy==1.13.1->torch) (1.3.0)\n",
            "Requirement already satisfied: numpy in /usr/local/lib/python3.10/dist-packages (from torchvision) (1.26.4)\n",
            "Requirement already satisfied: pillow!=8.3.*,>=5.3.0 in /usr/local/lib/python3.10/dist-packages (from torchvision) (11.0.0)\n",
            "Requirement already satisfied: MarkupSafe>=2.0 in /usr/local/lib/python3.10/dist-packages (from jinja2->torch) (3.0.2)\n"
          ]
        }
      ],
      "source": [
        "# Install PyTorch\n",
        "!pip install torch torchvision"
      ]
    },
    {
      "cell_type": "code",
      "source": [
        "# Importation des bibliothèques nécessaires\n",
        "import torch\n",
        "import torch.nn as nn\n",
        "import torch.optim as optim\n",
        "import torchvision\n",
        "from torchvision import transforms\n",
        "from torch.utils.data import DataLoader\n",
        "from sklearn.metrics import classification_report\n",
        "import matplotlib.pyplot as plt"
      ],
      "metadata": {
        "id": "k5CdnDwpbt1t"
      },
      "execution_count": null,
      "outputs": []
    },
    {
      "cell_type": "code",
      "source": [
        "# Détection du GPU\n",
        "device = torch.device(\"cuda\" if torch.cuda.is_available() else \"cpu\")\n",
        "print(f\"Utilisation de l'appareil : {device}\")"
      ],
      "metadata": {
        "colab": {
          "base_uri": "https://localhost:8080/"
        },
        "id": "3tsYzwwmzg1N",
        "outputId": "2b1ee390-a686-46fe-f97d-5ecc5ebde5da"
      },
      "execution_count": null,
      "outputs": [
        {
          "output_type": "stream",
          "name": "stdout",
          "text": [
            "Utilisation de l'appareil : cuda\n"
          ]
        }
      ]
    },
    {
      "cell_type": "code",
      "source": [
        "# Normalisation des données : MNIST images (28x28) avec valeurs de pixel [0, 1]\n",
        "transform = transforms.Compose([\n",
        "    transforms.ToTensor(),\n",
        "    transforms.Normalize((0.5,), (0.5,))  # Normalisation : mean=0.5, std=0.5\n",
        "])\n",
        "\n",
        "# Téléchargement des ensembles de données MNIST\n",
        "train_dataset = torchvision.datasets.MNIST(root='./data', train=True, transform=transform, download=True)\n",
        "test_dataset = torchvision.datasets.MNIST(root='./data', train=False, transform=transform, download=True)\n",
        "\n",
        "# Charger les données en mini-batches\n",
        "train_loader = DataLoader(train_dataset, batch_size=64, shuffle=True)\n",
        "test_loader = DataLoader(test_dataset, batch_size=64, shuffle=False)\n"
      ],
      "metadata": {
        "id": "64CN-fSub6hY",
        "colab": {
          "base_uri": "https://localhost:8080/"
        },
        "outputId": "bba1af51-7444-4449-ee9e-b774c83f25f5"
      },
      "execution_count": null,
      "outputs": [
        {
          "output_type": "stream",
          "name": "stdout",
          "text": [
            "Downloading http://yann.lecun.com/exdb/mnist/train-images-idx3-ubyte.gz\n",
            "Failed to download (trying next):\n",
            "HTTP Error 403: Forbidden\n",
            "\n",
            "Downloading https://ossci-datasets.s3.amazonaws.com/mnist/train-images-idx3-ubyte.gz\n",
            "Downloading https://ossci-datasets.s3.amazonaws.com/mnist/train-images-idx3-ubyte.gz to ./data/MNIST/raw/train-images-idx3-ubyte.gz\n"
          ]
        },
        {
          "output_type": "stream",
          "name": "stderr",
          "text": [
            "100%|██████████| 9.91M/9.91M [00:00<00:00, 15.2MB/s]\n"
          ]
        },
        {
          "output_type": "stream",
          "name": "stdout",
          "text": [
            "Extracting ./data/MNIST/raw/train-images-idx3-ubyte.gz to ./data/MNIST/raw\n",
            "\n",
            "Downloading http://yann.lecun.com/exdb/mnist/train-labels-idx1-ubyte.gz\n",
            "Failed to download (trying next):\n",
            "HTTP Error 403: Forbidden\n",
            "\n",
            "Downloading https://ossci-datasets.s3.amazonaws.com/mnist/train-labels-idx1-ubyte.gz\n",
            "Downloading https://ossci-datasets.s3.amazonaws.com/mnist/train-labels-idx1-ubyte.gz to ./data/MNIST/raw/train-labels-idx1-ubyte.gz\n"
          ]
        },
        {
          "output_type": "stream",
          "name": "stderr",
          "text": [
            "100%|██████████| 28.9k/28.9k [00:00<00:00, 453kB/s]\n"
          ]
        },
        {
          "output_type": "stream",
          "name": "stdout",
          "text": [
            "Extracting ./data/MNIST/raw/train-labels-idx1-ubyte.gz to ./data/MNIST/raw\n",
            "\n",
            "Downloading http://yann.lecun.com/exdb/mnist/t10k-images-idx3-ubyte.gz\n",
            "Failed to download (trying next):\n",
            "HTTP Error 403: Forbidden\n",
            "\n",
            "Downloading https://ossci-datasets.s3.amazonaws.com/mnist/t10k-images-idx3-ubyte.gz\n",
            "Downloading https://ossci-datasets.s3.amazonaws.com/mnist/t10k-images-idx3-ubyte.gz to ./data/MNIST/raw/t10k-images-idx3-ubyte.gz\n"
          ]
        },
        {
          "output_type": "stream",
          "name": "stderr",
          "text": [
            "100%|██████████| 1.65M/1.65M [00:00<00:00, 4.18MB/s]\n"
          ]
        },
        {
          "output_type": "stream",
          "name": "stdout",
          "text": [
            "Extracting ./data/MNIST/raw/t10k-images-idx3-ubyte.gz to ./data/MNIST/raw\n",
            "\n",
            "Downloading http://yann.lecun.com/exdb/mnist/t10k-labels-idx1-ubyte.gz\n",
            "Failed to download (trying next):\n",
            "HTTP Error 403: Forbidden\n",
            "\n",
            "Downloading https://ossci-datasets.s3.amazonaws.com/mnist/t10k-labels-idx1-ubyte.gz\n",
            "Downloading https://ossci-datasets.s3.amazonaws.com/mnist/t10k-labels-idx1-ubyte.gz to ./data/MNIST/raw/t10k-labels-idx1-ubyte.gz\n"
          ]
        },
        {
          "output_type": "stream",
          "name": "stderr",
          "text": [
            "100%|██████████| 4.54k/4.54k [00:00<00:00, 4.50MB/s]"
          ]
        },
        {
          "output_type": "stream",
          "name": "stdout",
          "text": [
            "Extracting ./data/MNIST/raw/t10k-labels-idx1-ubyte.gz to ./data/MNIST/raw\n",
            "\n"
          ]
        },
        {
          "output_type": "stream",
          "name": "stderr",
          "text": [
            "\n"
          ]
        }
      ]
    },
    {
      "cell_type": "code",
      "source": [
        "class CNN(nn.Module):\n",
        "    def __init__(self):\n",
        "        super(CNN, self).__init__()\n",
        "        self.conv1 = nn.Conv2d(1, 32, kernel_size=3, padding=1)  # Convolution 1\n",
        "        self.bn1 = nn.BatchNorm2d(32)  # Normalisation\n",
        "        self.conv2 = nn.Conv2d(32, 64, kernel_size=3, padding=1)  # Convolution 2\n",
        "        self.bn2 = nn.BatchNorm2d(64)\n",
        "        self.pool = nn.MaxPool2d(2, 2)  # Pooling (2x2)\n",
        "        self.dropout = nn.Dropout(0.5)  # Dropout pour réduire l'overfitting\n",
        "        self._compute_flattened_size()  # Calcul de la taille aplatie pour les couches fully connected\n",
        "        self.fc1 = nn.Linear(self._flattened_size, 128)  # Fully connected 1\n",
        "        self.fc2 = nn.Linear(128, 10)  # Fully connected 2 (10 classes)\n",
        "\n",
        "    def _compute_flattened_size(self):\n",
        "        with torch.no_grad():\n",
        "            dummy_input = torch.randn(1, 1, 28, 28)  # Input dummy pour calculer la taille\n",
        "            x = self.pool(self.bn1(torch.relu(self.conv1(dummy_input))))\n",
        "            x = self.pool(self.bn2(torch.relu(self.conv2(x))))\n",
        "            self._flattened_size = x.numel()  # Taille des features après convolution/pooling\n",
        "\n",
        "    def forward(self, x):\n",
        "        x = self.pool(self.bn1(torch.relu(self.conv1(x))))  # Convolution + Activation\n",
        "        x = self.pool(self.bn2(torch.relu(self.conv2(x))))  # Convolution + Pooling\n",
        "        x = x.view(x.size(0), -1)  # Aplatir les features\n",
        "        x = torch.relu(self.fc1(x))  # Fully connected 1\n",
        "        x = self.dropout(x)  # Dropout\n",
        "        x = self.fc2(x)  # Fully connected 2 (logits)\n",
        "        return x\n",
        "\n",
        "# Instanciation du modèle\n",
        "model = CNN().to(device)\n",
        "print(model)\n"
      ],
      "metadata": {
        "colab": {
          "base_uri": "https://localhost:8080/"
        },
        "id": "_n3f6y4_fvvS",
        "outputId": "8f0c9f48-8f47-4095-a60d-980e7ce11876"
      },
      "execution_count": null,
      "outputs": [
        {
          "output_type": "stream",
          "name": "stdout",
          "text": [
            "CNN(\n",
            "  (conv1): Conv2d(1, 32, kernel_size=(3, 3), stride=(1, 1), padding=(1, 1))\n",
            "  (bn1): BatchNorm2d(32, eps=1e-05, momentum=0.1, affine=True, track_running_stats=True)\n",
            "  (conv2): Conv2d(32, 64, kernel_size=(3, 3), stride=(1, 1), padding=(1, 1))\n",
            "  (bn2): BatchNorm2d(64, eps=1e-05, momentum=0.1, affine=True, track_running_stats=True)\n",
            "  (pool): MaxPool2d(kernel_size=2, stride=2, padding=0, dilation=1, ceil_mode=False)\n",
            "  (dropout): Dropout(p=0.5, inplace=False)\n",
            "  (fc1): Linear(in_features=3136, out_features=128, bias=True)\n",
            "  (fc2): Linear(in_features=128, out_features=10, bias=True)\n",
            ")\n"
          ]
        }
      ]
    },
    {
      "cell_type": "code",
      "source": [
        "# Fonction de perte et optimiseur\n",
        "criterion = nn.CrossEntropyLoss()  # CrossEntropy pour classification multi-classes\n",
        "optimizer = optim.Adam(model.parameters(), lr=1e-3)  # Adam Optimizer\n"
      ],
      "metadata": {
        "id": "NSwA1Uc9FSw9"
      },
      "execution_count": null,
      "outputs": []
    },
    {
      "cell_type": "code",
      "source": [
        "# Entraînement du modèle\n",
        "num_epochs = 10  # Nombre d'époques\n",
        "\n",
        "for epoch in range(num_epochs):\n",
        "    model.train()  # Mode entraînement\n",
        "    running_loss = 0.0\n",
        "\n",
        "    for images, labels in train_loader:\n",
        "        images, labels = images.to(device), labels.to(device)  # Charger les données sur GPU/CPU\n",
        "\n",
        "        # Forward pass\n",
        "        outputs = model(images)\n",
        "        loss = criterion(outputs, labels)\n",
        "\n",
        "        # Backward pass et mise à jour\n",
        "        optimizer.zero_grad()\n",
        "        loss.backward()\n",
        "        optimizer.step()\n",
        "\n",
        "        running_loss += loss.item()\n",
        "\n",
        "    print(f\"Époque [{epoch+1}/{num_epochs}], Perte: {running_loss/len(train_loader):.4f}\")\n"
      ],
      "metadata": {
        "colab": {
          "base_uri": "https://localhost:8080/"
        },
        "id": "5Fqcx6NoFtHR",
        "outputId": "5da35af3-b050-40b8-d0de-af5bc52bc1ff"
      },
      "execution_count": null,
      "outputs": [
        {
          "output_type": "stream",
          "name": "stdout",
          "text": [
            "Époque [1/10], Perte: 0.1590\n",
            "Époque [2/10], Perte: 0.0734\n",
            "Époque [3/10], Perte: 0.0584\n",
            "Époque [4/10], Perte: 0.0478\n",
            "Époque [5/10], Perte: 0.0448\n",
            "Époque [6/10], Perte: 0.0380\n",
            "Époque [7/10], Perte: 0.0323\n",
            "Époque [8/10], Perte: 0.0306\n",
            "Époque [9/10], Perte: 0.0268\n",
            "Époque [10/10], Perte: 0.0288\n"
          ]
        }
      ]
    },
    {
      "cell_type": "code",
      "source": [
        "# Fonction d'évaluation\n",
        "def evaluate_model(model, test_loader):\n",
        "    model.eval()  # Mode évaluation\n",
        "    test_loss = 0.0\n",
        "    correct = 0\n",
        "    total = 0\n",
        "    all_preds = []\n",
        "    all_labels = []\n",
        "\n",
        "    with torch.no_grad():\n",
        "        for images, labels in test_loader:\n",
        "            images, labels = images.to(device), labels.to(device)\n",
        "            outputs = model(images)\n",
        "            loss = criterion(outputs, labels)\n",
        "            test_loss += loss.item()\n",
        "\n",
        "            _, preds = torch.max(outputs, 1)\n",
        "            correct += (preds == labels).sum().item()\n",
        "            total += labels.size(0)\n",
        "\n",
        "            all_preds.extend(preds.cpu().numpy())\n",
        "            all_labels.extend(labels.cpu().numpy())\n",
        "\n",
        "    accuracy = correct / total\n",
        "    print(f\"Test Loss: {test_loss / len(test_loader):.4f}\")\n",
        "    print(f\"Test Accuracy: {accuracy:.4f}\")\n",
        "\n",
        "    # Rapport de classification\n",
        "    print(\"\\nClassification Report:\")\n",
        "    print(classification_report(all_labels, all_preds))\n",
        "\n",
        "# Évaluer le modèle\n",
        "evaluate_model(model, test_loader)\n"
      ],
      "metadata": {
        "colab": {
          "base_uri": "https://localhost:8080/"
        },
        "id": "x73BYRz8Fxgh",
        "outputId": "a6d181d2-3800-4074-c1bd-e36e80f00ad7"
      },
      "execution_count": null,
      "outputs": [
        {
          "output_type": "stream",
          "name": "stdout",
          "text": [
            "Test Loss: 0.0307\n",
            "Test Accuracy: 0.9924\n",
            "\n",
            "Classification Report:\n",
            "              precision    recall  f1-score   support\n",
            "\n",
            "           0       0.99      1.00      0.99       980\n",
            "           1       0.99      1.00      1.00      1135\n",
            "           2       1.00      0.99      0.99      1032\n",
            "           3       0.99      1.00      1.00      1010\n",
            "           4       0.99      1.00      0.99       982\n",
            "           5       0.99      0.99      0.99       892\n",
            "           6       0.99      0.99      0.99       958\n",
            "           7       0.99      0.99      0.99      1028\n",
            "           8       0.99      0.99      0.99       974\n",
            "           9       0.99      0.99      0.99      1009\n",
            "\n",
            "    accuracy                           0.99     10000\n",
            "   macro avg       0.99      0.99      0.99     10000\n",
            "weighted avg       0.99      0.99      0.99     10000\n",
            "\n"
          ]
        }
      ]
    },
    {
      "cell_type": "code",
      "source": [
        "# Visualisation des exemples de prédictions\n",
        "def visualize_predictions(model, test_loader):\n",
        "    model.eval()\n",
        "    images, labels = next(iter(test_loader))\n",
        "    images, labels = images.to(device), labels.to(device)\n",
        "    outputs = model(images)\n",
        "    _, preds = torch.max(outputs, 1)\n",
        "\n",
        "    # Affichage des 6 premières images\n",
        "    plt.figure(figsize=(12, 6))\n",
        "    for i in range(6):\n",
        "        plt.subplot(2, 3, i+1)\n",
        "        plt.imshow(images[i].cpu().squeeze(), cmap=\"gray\")\n",
        "        plt.title(f\"Vrai: {labels[i].item()} | Prédit: {preds[i].item()}\")\n",
        "        plt.axis(\"off\")\n",
        "    plt.show()\n",
        "\n",
        "# Visualiser les prédictions\n",
        "visualize_predictions(model, test_loader)"
      ],
      "metadata": {
        "colab": {
          "base_uri": "https://localhost:8080/",
          "height": 521
        },
        "id": "Xh_Eoiz8F6Ya",
        "outputId": "614556c9-518e-4ec6-8b39-17955a70d924"
      },
      "execution_count": null,
      "outputs": [
        {
          "output_type": "display_data",
          "data": {
            "text/plain": [
              "<Figure size 1200x600 with 6 Axes>"
            ],
            "image/png": "[encoded data removed]"
          },
          "metadata": {}
        }
      ]
    },
    {
      "cell_type": "code",
      "source": [
        "import torch\n",
        "import torchvision\n",
        "from torchvision.models.detection import fasterrcnn_resnet50_fpn\n",
        "from torchvision.transforms import functional as F\n",
        "from torchvision.datasets import MNIST\n",
        "from torch.utils.data import DataLoader, Subset\n",
        "import random\n",
        "from sklearn.metrics import accuracy_score, f1_score"
      ],
      "metadata": {
        "id": "cbVfIk9RJcqF"
      },
      "execution_count": null,
      "outputs": []
    },
    {
      "cell_type": "code",
      "source": [
        "class MNISTDetectionDataset(torch.utils.data.Dataset):\n",
        "    def __init__(self, mnist_dataset):\n",
        "        self.mnist_dataset = mnist_dataset\n",
        "\n",
        "    def __len__(self):\n",
        "        return len(self.mnist_dataset)\n",
        "\n",
        "    def __getitem__(self, idx):\n",
        "        image, label = self.mnist_dataset[idx]\n",
        "\n",
        "        # Convertir l'image en Tensor\n",
        "        image = F.to_tensor(image)\n",
        "\n",
        "        # Simuler une boîte englobante (bbox) pour la détection\n",
        "        bbox = torch.tensor([[5, 5, 20, 20]], dtype=torch.float32)  # Box fictive pour démonstration\n",
        "\n",
        "        # Préparer les cibles\n",
        "        target = {\n",
        "            \"boxes\": bbox,  # Une seule bbox pour MNIST\n",
        "            \"labels\": torch.tensor([label], dtype=torch.int64),  # Classe associée\n",
        "        }\n",
        "\n",
        "        return image, target\n",
        "\n"
      ],
      "metadata": {
        "id": "Wh-yt4CdK-uI"
      },
      "execution_count": null,
      "outputs": []
    },
    {
      "cell_type": "code",
      "source": [
        "def create_subset(dataset, fraction=0.1, seed=42):\n",
        "    random.seed(seed)\n",
        "    indices = random.sample(range(len(dataset)), int(len(dataset) * fraction))\n",
        "    return Subset(dataset, indices)\n",
        "\n",
        "\n",
        "def collate_fn(batch):\n",
        "    return tuple(zip(*batch))"
      ],
      "metadata": {
        "id": "LqMBguO3LGCT"
      },
      "execution_count": null,
      "outputs": []
    },
    {
      "cell_type": "code",
      "source": [
        "# Charger le dataset complet\n",
        "train_dataset = MNIST(root='./data', train=True, download=True)\n",
        "test_dataset = MNIST(root='./data', train=False, download=True)\n",
        "\n",
        "# Créer des sous-ensembles (10% des données)\n",
        "train_subset = create_subset(train_dataset, fraction=0.1)\n",
        "test_subset = create_subset(test_dataset, fraction=0.1)\n",
        "\n",
        "# Adapter les sous-ensembles pour la détection d'objets\n",
        "train_detection_dataset = MNISTDetectionDataset(train_subset)\n",
        "test_detection_dataset = MNISTDetectionDataset(test_subset)"
      ],
      "metadata": {
        "id": "manjvBFTLU_2"
      },
      "execution_count": null,
      "outputs": []
    },
    {
      "cell_type": "code",
      "source": [
        "# Créer les DataLoaders\n",
        "train_loader = DataLoader(train_detection_dataset, batch_size=4, shuffle=True, collate_fn=collate_fn)\n",
        "test_loader = DataLoader(test_detection_dataset, batch_size=4, shuffle=False, collate_fn=collate_fn)\n",
        "\n",
        "device = torch.device(\"cuda\" if torch.cuda.is_available() else \"cpu\")\n",
        "\n",
        "# Charger le modèle pré-entraîné\n",
        "model = fasterrcnn_resnet50_fpn(pretrained=True)"
      ],
      "metadata": {
        "colab": {
          "base_uri": "https://localhost:8080/"
        },
        "id": "oE-pHFKDOnpQ",
        "outputId": "a340b433-5fda-4ebc-cbcf-391c895cd1dd"
      },
      "execution_count": null,
      "outputs": [
        {
          "output_type": "stream",
          "name": "stderr",
          "text": [
            "/usr/local/lib/python3.10/dist-packages/torchvision/models/_utils.py:208: UserWarning: The parameter 'pretrained' is deprecated since 0.13 and may be removed in the future, please use 'weights' instead.\n",
            "  warnings.warn(\n",
            "/usr/local/lib/python3.10/dist-packages/torchvision/models/_utils.py:223: UserWarning: Arguments other than a weight enum or `None` for 'weights' are deprecated since 0.13 and may be removed in the future. The current behavior is equivalent to passing `weights=FasterRCNN_ResNet50_FPN_Weights.COCO_V1`. You can also use `weights=FasterRCNN_ResNet50_FPN_Weights.DEFAULT` to get the most up-to-date weights.\n",
            "  warnings.warn(msg)\n",
            "Downloading: \"https://download.pytorch.org/models/fasterrcnn_resnet50_fpn_coco-258fb6c6.pth\" to /root/.cache/torch/hub/checkpoints/fasterrcnn_resnet50_fpn_coco-258fb6c6.pth\n",
            "100%|██████████| 160M/160M [00:01<00:00, 158MB/s]\n"
          ]
        }
      ]
    },
    {
      "cell_type": "code",
      "source": [
        "# Ajuster le nombre de classes (10 pour MNIST + 1 pour la classe \"fond\")\n",
        "num_classes = 10 + 1\n",
        "in_features = model.roi_heads.box_predictor.cls_score.in_features\n",
        "model.roi_heads.box_predictor = torchvision.models.detection.faster_rcnn.FastRCNNPredictor(in_features, num_classes)\n",
        "\n",
        "# Envoyer le modèle sur le GPU ou le CPU\n",
        "model = model.to(device)\n",
        "\n",
        "# Hyperparamètres\n",
        "num_epochs = 3\n",
        "learning_rate = 0.001"
      ],
      "metadata": {
        "id": "C0cPuz8iOpwt"
      },
      "execution_count": null,
      "outputs": []
    },
    {
      "cell_type": "code",
      "source": [
        "# Optimiseur\n",
        "params = [p for p in model.parameters() if p.requires_grad]\n",
        "optimizer = torch.optim.SGD(params, lr=learning_rate, momentum=0.9, weight_decay=0.0005)\n",
        "\n"
      ],
      "metadata": {
        "id": "QB9az_plOtay"
      },
      "execution_count": null,
      "outputs": []
    },
    {
      "cell_type": "code",
      "source": [
        "def train_model(model, train_loader, optimizer, device, num_epochs=3):\n",
        "    model.train()\n",
        "    for epoch in range(num_epochs):\n",
        "        epoch_loss = 0\n",
        "        for images, targets in train_loader:\n",
        "            images = [img.to(device) for img in images]\n",
        "            targets = [{k: v.to(device) for k, v in t.items()} for t in targets]\n",
        "\n",
        "            # Calcul de la perte\n",
        "            loss_dict = model(images, targets)\n",
        "            losses = sum(loss for loss in loss_dict.values())\n",
        "\n",
        "            # Rétropropagation\n",
        "            optimizer.zero_grad()\n",
        "            losses.backward()\n",
        "            optimizer.step()\n",
        "\n",
        "            epoch_loss += losses.item()\n",
        "\n",
        "        print(f\"Epoch [{epoch+1}/{num_epochs}], Loss: {epoch_loss/len(train_loader):.4f}\")\n"
      ],
      "metadata": {
        "id": "cxyyP_OXOz9R"
      },
      "execution_count": null,
      "outputs": []
    },
    {
      "cell_type": "code",
      "source": [
        "def evaluate_model(model, test_loader, device):\n",
        "    model.eval()\n",
        "    y_true = []\n",
        "    y_pred = []\n",
        "    with torch.no_grad():\n",
        "        for images, targets in test_loader:\n",
        "            images = [img.to(device) for img in images]\n",
        "            outputs = model(images)\n",
        "\n",
        "            # Extraire les prédictions\n",
        "            for i, output in enumerate(outputs):\n",
        "                y_true.append(targets[i]['labels'][0].item())\n",
        "                if len(output['labels']) > 0:  # Si une prédiction est faite\n",
        "                    y_pred.append(output['labels'][0].item())  # Prendre la première prédiction\n",
        "                else:  # Si aucune prédiction\n",
        "                    y_pred.append(-1)  # Classe spéciale pour \"aucune prédiction\"\n",
        "\n",
        "    # Calcul des métriques\n",
        "    accuracy = accuracy_score(y_true, y_pred)\n",
        "    f1 = f1_score(y_true, y_pred, average='weighted')\n",
        "    print(f\"Accuracy: {accuracy:.4f}, F1 Score: {f1:.4f}\")\n"
      ],
      "metadata": {
        "id": "_klAnmluO1Cx"
      },
      "execution_count": null,
      "outputs": []
    },
    {
      "cell_type": "code",
      "source": [
        "train_model(model, train_loader, optimizer, device, num_epochs=num_epochs)\n",
        "evaluate_model(model, test_loader, device)"
      ],
      "metadata": {
        "id": "C1hUTHVCP_dD",
        "colab": {
          "base_uri": "https://localhost:8080/"
        },
        "outputId": "ce985a5b-72e8-4c90-9546-2c93806d11ef"
      },
      "execution_count": null,
      "outputs": [
        {
          "output_type": "stream",
          "name": "stdout",
          "text": [
            "Epoch [1/3], Loss: 0.1531\n",
            "Epoch [2/3], Loss: 0.0579\n",
            "Epoch [3/3], Loss: 0.0409\n",
            "Accuracy: 0.8900, F1 Score: 0.8511\n"
          ]
        }
      ]
    },
    {
      "cell_type": "code",
      "source": [],
      "metadata": {
        "id": "y0_hek24xF92"
      },
      "execution_count": null,
      "outputs": []
    },
    {
      "cell_type": "code",
      "source": [
        "import matplotlib.pyplot as plt\n",
        "import matplotlib.patches as patches\n",
        "import numpy as np\n",
        "\n",
        "def visualize_predictions(model, data_loader, device, num_images=5):\n",
        "    \"\"\"\n",
        "    Visualise des exemples de prédictions effectuées par le modèle.\n",
        "    Args:\n",
        "        model: Le modèle Faster R-CNN.\n",
        "        data_loader: DataLoader contenant les images de test.\n",
        "        device: Le périphérique (CPU ou GPU).\n",
        "        num_images: Nombre d'images à afficher.\n",
        "    \"\"\"\n",
        "    model.eval()  # Met le modèle en mode évaluation\n",
        "    images_shown = 0\n",
        "\n",
        "    with torch.no_grad():\n",
        "        for images, targets in data_loader:\n",
        "            images = [img.to(device) for img in images]\n",
        "            outputs = model(images)  # Prédictions du modèle\n",
        "\n",
        "            for i in range(len(images)):\n",
        "                if images_shown >= num_images:\n",
        "                    return\n",
        "\n",
        "                image = images[i].cpu().permute(1, 2, 0).numpy()  # Convertir l'image pour matplotlib\n",
        "                image = np.clip(image, 0, 1)  # Normaliser les valeurs d'image entre 0 et 1\n",
        "                output = outputs[i]\n",
        "                true_target = targets[i]\n",
        "\n",
        "                # Préparer la figure\n",
        "                fig, ax = plt.subplots(1, 1, figsize=(8, 8))\n",
        "                ax.imshow(image)\n",
        "                ax.axis(\"off\")\n",
        "                ax.set_title(f\"Ground Truth: {true_target['labels'][0].item()}\")\n",
        "\n",
        "                # Boîte englobante et étiquette prédite\n",
        "                if len(output[\"boxes\"]) > 0:\n",
        "                    for box, label, score in zip(output[\"boxes\"], output[\"labels\"], output[\"scores\"]):\n",
        "                        if score > 0.5:  # Seulement les prédictions avec un score élevé\n",
        "                            x1, y1, x2, y2 = box.cpu().numpy()\n",
        "                            width, height = x2 - x1, y2 - y1\n",
        "                            rect = patches.Rectangle(\n",
        "                                (x1, y1), width, height, linewidth=2, edgecolor=\"r\", facecolor=\"none\"\n",
        "                            )\n",
        "                            ax.add_patch(rect)\n",
        "                            ax.text(\n",
        "                                x1,\n",
        "                                y1 - 5,\n",
        "                                f\"{label.item()} ({score:.2f})\",\n",
        "                                color=\"red\",\n",
        "                                fontsize=10,\n",
        "                                backgroundcolor=\"white\",\n",
        "                            )\n",
        "                else:\n",
        "                    ax.text(\n",
        "                        0.5,\n",
        "                        0.5,\n",
        "                        \"No Prediction\",\n",
        "                        fontsize=12,\n",
        "                        color=\"red\",\n",
        "                        ha=\"center\",\n",
        "                        va=\"center\",\n",
        "                        transform=ax.transAxes,\n",
        "                    )\n",
        "\n",
        "                plt.show()\n",
        "                images_shown += 1\n",
        "\n",
        "# Visualiser les prédictions\n",
        "visualize_predictions(model, test_loader, device, num_images=5)\n"
      ],
      "metadata": {
        "colab": {
          "base_uri": "https://localhost:8080/",
          "height": 1000
        },
        "id": "fHT1dA1dhPfu",
        "outputId": "1ac3aa8d-11f4-477c-c970-4c2addd34f0b"
      },
      "execution_count": null,
      "outputs": [
        {
          "output_type": "display_data",
          "data": {
            "text/plain": [
              "<Figure size 800x800 with 1 Axes>"
            ],
            "image/png": "[encoded data removed]"
          },
          "metadata": {}
        },
        {
          "output_type": "display_data",
          "data": {
            "text/plain": [
              "<Figure size 800x800 with 1 Axes>"
            ],
            "image/png": "[encoded data removed]"
          },
          "metadata": {}
        },
        {
          "output_type": "display_data",
          "data": {
            "text/plain": [
              "<Figure size 800x800 with 1 Axes>"
            ],
            "image/png": "[encoded data removed]"
          },
          "metadata": {}
        },
        {
          "output_type": "display_data",
          "data": {
            "text/plain": [
              "<Figure size 800x800 with 1 Axes>"
            ],
            "image/png": "[encoded data removed]"
          },
          "metadata": {}
        },
        {
          "output_type": "display_data",
          "data": {
            "text/plain": [
              "<Figure size 800x800 with 1 Axes>"
            ],
            "image/png": "[encoded data removed]"
          },
          "metadata": {}
        }
      ]
    },
    {
      "cell_type": "code",
      "source": [
        "import pandas as pd\n",
        "import matplotlib.pyplot as plt\n",
        "\n",
        "# Métriques des deux modèles\n",
        "data = {\n",
        "    \"Model\": [\"Faster R-CNN\", \"Simple CNN\"],\n",
        "    \"Accuracy (%)\": [88.50, 98.00],\n",
        "    \"F1 Score\": [0.8507, 0.9800],\n",
        "    \"Final Loss\": [0.0371, 0.0245],\n",
        "    \"Training Time (s)\": [3360,120 ],\n",
        "}\n",
        "\n",
        "# Création d'un DataFrame\n",
        "comparison_df = pd.DataFrame(data)\n",
        "\n",
        "# Afficher les résultats sous forme de tableau\n",
        "print(comparison_df)\n",
        "\n",
        "# Visualisation avec un graphique en barres\n",
        "metrics = [\"Accuracy (%)\", \"F1 Score\", \"Final Loss\", \"Training Time (s)\"]\n",
        "\n",
        "# Tracer les métriques\n",
        "fig, axes = plt.subplots(2, 2, figsize=(12, 8))\n",
        "axes = axes.flatten()\n",
        "\n",
        "for i, metric in enumerate(metrics):\n",
        "    axes[i].bar(comparison_df[\"Model\"], comparison_df[metric], color=[\"blue\", \"green\"])\n",
        "    axes[i].set_title(metric)\n",
        "    axes[i].set_ylabel(metric)\n",
        "    axes[i].set_xlabel(\"Model\")\n",
        "\n",
        "plt.tight_layout()\n",
        "plt.show()\n"
      ],
      "metadata": {
        "colab": {
          "base_uri": "https://localhost:8080/",
          "height": 879
        },
        "id": "hogaCRfLDWYs",
        "outputId": "5c21d5ef-f59f-4071-b302-126f84672ea3"
      },
      "execution_count": null,
      "outputs": [
        {
          "output_type": "stream",
          "name": "stdout",
          "text": [
            "          Model  Accuracy (%)  F1 Score  Final Loss  Training Time (s)\n",
            "0  Faster R-CNN          88.5    0.8507      0.0371               3360\n",
            "1    Simple CNN          98.0    0.9800      0.0245                120\n"
          ]
        },
        {
          "output_type": "display_data",
          "data": {
            "text/plain": [
              "<Figure size 1200x800 with 4 Axes>"
            ],
            "image/png": "[encoded data removed]"
          },
          "metadata": {}
        }
      ]
    },
    {
      "cell_type": "code",
      "source": [
        "import torch\n",
        "import torchvision\n",
        "from torchvision import transforms\n",
        "from torchvision.models import vgg16, alexnet\n",
        "from torch.utils.data import DataLoader\n",
        "from torchvision.datasets import MNIST\n",
        "from sklearn.metrics import accuracy_score, f1_score\n",
        "import time\n",
        "import pandas as pd\n",
        "import matplotlib.pyplot as plt"
      ],
      "metadata": {
        "id": "Ts_eD2udIpAF"
      },
      "execution_count": null,
      "outputs": []
    },
    {
      "cell_type": "code",
      "source": [
        "# Définir l'appareil\n",
        "device = torch.device(\"cuda\" if torch.cuda.is_available() else \"cpu\")\n",
        "\n",
        "# Prétraitement des données\n",
        "transform = transforms.Compose([\n",
        "    transforms.Grayscale(num_output_channels=3),  # Convertir en 3 canaux\n",
        "    transforms.Resize((224, 224)),  # Redimensionner pour VGG16 et AlexNet\n",
        "    transforms.ToTensor()\n",
        "])\n"
      ],
      "metadata": {
        "id": "JCMmjh-aIqgc"
      },
      "execution_count": null,
      "outputs": []
    },
    {
      "cell_type": "code",
      "source": [
        "# Charger le dataset MNIST\n",
        "train_dataset = MNIST(root='./data', train=True, download=True, transform=transform)\n",
        "test_dataset = MNIST(root='./data', train=False, download=True, transform=transform)\n",
        "\n",
        "train_loader = DataLoader(train_dataset, batch_size=32, shuffle=True)\n",
        "test_loader = DataLoader(test_dataset, batch_size=32, shuffle=False)\n"
      ],
      "metadata": {
        "id": "ENhDwv4-IwYI"
      },
      "execution_count": null,
      "outputs": []
    },
    {
      "cell_type": "code",
      "source": [
        "# Fonction pour fine-tuner les modèles\n",
        "def fine_tune_model(model_name, num_classes, device):\n",
        "    if model_name == \"VGG16\":\n",
        "        model = vgg16(pretrained=True)\n",
        "        model.classifier[6] = torch.nn.Linear(4096, num_classes)  # Adapter à 10 classes\n",
        "    elif model_name == \"AlexNet\":\n",
        "        model = alexnet(pretrained=True)\n",
        "        model.classifier[6] = torch.nn.Linear(4096, num_classes)  # Adapter à 10 classes\n",
        "    else:\n",
        "        raise ValueError(\"Modèle non pris en charge\")\n",
        "    return model.to(device)\n"
      ],
      "metadata": {
        "id": "92CNyN0LI0y0"
      },
      "execution_count": null,
      "outputs": []
    },
    {
      "cell_type": "code",
      "source": [
        "# Fonction d'entraînement\n",
        "def train_model(model, train_loader, optimizer, device, num_epochs=3):\n",
        "    model.train()\n",
        "    start_time = time.time()\n",
        "    for epoch in range(num_epochs):\n",
        "        epoch_loss = 0\n",
        "        for images, labels in train_loader:\n",
        "            images, labels = images.to(device), labels.to(device)\n",
        "            optimizer.zero_grad()\n",
        "            outputs = model(images)\n",
        "            loss = torch.nn.CrossEntropyLoss()(outputs, labels)\n",
        "            loss.backward()\n",
        "            optimizer.step()\n",
        "            epoch_loss += loss.item()\n",
        "        print(f\"Epoch [{epoch+1}/{num_epochs}], Loss: {epoch_loss/len(train_loader):.4f}\")\n",
        "    training_time = time.time() - start_time\n",
        "    return training_time\n"
      ],
      "metadata": {
        "id": "VNwUEr9-I499"
      },
      "execution_count": null,
      "outputs": []
    },
    {
      "cell_type": "code",
      "source": [
        "# Fonction d'évaluation\n",
        "def evaluate_model(model, test_loader, device):\n",
        "    model.eval()\n",
        "    y_true = []\n",
        "    y_pred = []\n",
        "    with torch.no_grad():\n",
        "        for images, labels in test_loader:\n",
        "            images, labels = images.to(device), labels.to(device)\n",
        "            outputs = model(images)\n",
        "            _, preds = torch.max(outputs, 1)\n",
        "            y_true.extend(labels.cpu().numpy())\n",
        "            y_pred.extend(preds.cpu().numpy())\n",
        "    accuracy = accuracy_score(y_true, y_pred)\n",
        "    f1 = f1_score(y_true, y_pred, average=\"weighted\")\n",
        "    return accuracy, f1\n"
      ],
      "metadata": {
        "id": "L-LJNuYnI9gy"
      },
      "execution_count": null,
      "outputs": []
    },
    {
      "cell_type": "code",
      "source": [
        "# Initialisation des résultats\n",
        "results = []\n",
        "\n",
        "# Modèles à comparer\n",
        "models_to_train = [\n",
        "    {\"name\": \"VGG16\", \"model\": fine_tune_model(\"VGG16\", num_classes=10, device=device)},\n",
        "    {\"name\": \"AlexNet\", \"model\": fine_tune_model(\"AlexNet\", num_classes=10, device=device)},\n",
        "]"
      ],
      "metadata": {
        "id": "lwaoykm4JDxU"
      },
      "execution_count": null,
      "outputs": []
    },
    {
      "cell_type": "code",
      "source": [
        "# Entraînement et évaluation\n",
        "for model_info in models_to_train:\n",
        "    model_name = model_info[\"name\"]\n",
        "    model = model_info[\"model\"]\n",
        "    print(f\"Training {model_name}...\")\n",
        "    optimizer = torch.optim.SGD(model.parameters(), lr=0.001, momentum=0.9)\n",
        "    training_time = train_model(model, train_loader, optimizer, device, num_epochs=3)\n",
        "    accuracy, f1 = evaluate_model(model, test_loader, device)\n",
        "    print(f\"{model_name} - Accuracy: {accuracy:.4f}, F1 Score: {f1:.4f}\")\n",
        "    results.append({\"Model\": model_name, \"Accuracy\": accuracy, \"F1 Score\": f1, \"Training Time (s)\": training_time})\n"
      ],
      "metadata": {
        "colab": {
          "base_uri": "https://localhost:8080/"
        },
        "id": "AvEIWfDCJJNG",
        "outputId": "f53e298f-de93-49db-d3fa-8571d1035c1c"
      },
      "execution_count": null,
      "outputs": [
        {
          "output_type": "stream",
          "name": "stdout",
          "text": [
            "Training VGG16...\n",
            "Epoch [1/3], Loss: 0.0871\n",
            "Epoch [2/3], Loss: 0.0227\n",
            "Epoch [3/3], Loss: 0.0150\n",
            "VGG16 - Accuracy: 0.9945, F1 Score: 0.9945\n",
            "Training AlexNet...\n",
            "Epoch [1/3], Loss: 0.1088\n",
            "Epoch [2/3], Loss: 0.0344\n",
            "Epoch [3/3], Loss: 0.0262\n",
            "AlexNet - Accuracy: 0.9943, F1 Score: 0.9943\n"
          ]
        }
      ]
    },
    {
      "cell_type": "code",
      "source": [
        "# Ajout des résultats de CNN et Faster R-CNN\n",
        "results.extend([\n",
        "    {\"Model\": \"Simple CNN\", \"Accuracy\": 0.98, \"F1 Score\": 0.9800, \"Training Time (s)\": 120},  # Remplir avec vos valeurs\n",
        "    {\"Model\": \"Faster R-CNN\", \"Accuracy\": 0.885, \"F1 Score\": 0.8507, \"Training Time (s)\": 3360}  # Remplir avec vos valeurs\n",
        "])\n",
        "\n",
        "# Créer un DataFrame pour les résultats\n",
        "results_df = pd.DataFrame(results)\n",
        "\n",
        "# Afficher les résultats\n",
        "print(\"\\nComparison of Models:\")\n",
        "print(results_df)\n",
        "\n",
        "# Visualisation des résultats\n",
        "fig, axes = plt.subplots(2, 2, figsize=(12, 8))\n",
        "axes = axes.flatten()\n",
        "\n",
        "metrics = [\"Accuracy\", \"F1 Score\", \"Training Time (s)\"]\n",
        "\n",
        "for i, metric in enumerate(metrics):\n",
        "    axes[i].bar(results_df[\"Model\"], results_df[metric], color=[\"blue\", \"green\", \"orange\", \"red\"])\n",
        "    axes[i].set_title(metric)\n",
        "    axes[i].set_ylabel(metric)\n",
        "    axes[i].set_xlabel(\"Model\")\n",
        "\n",
        "plt.tight_layout()\n",
        "plt.show()"
      ],
      "metadata": {
        "colab": {
          "base_uri": "https://localhost:8080/",
          "height": 907
        },
        "id": "PumBbDP0WM8y",
        "outputId": "4d5f0438-6ad0-4ca3-b13e-6ecf48cf6040"
      },
      "execution_count": null,
      "outputs": [
        {
          "output_type": "stream",
          "name": "stdout",
          "text": [
            "\n",
            "Comparison of Models:\n",
            "          Model  Accuracy  F1 Score  Training Time (s)\n",
            "0         VGG16    0.9945  0.994497        2638.938926\n",
            "1       AlexNet    0.9943  0.994299         386.013927\n",
            "2    Simple CNN    0.9800  0.980000         120.000000\n",
            "3  Faster R-CNN    0.8850  0.850700        3360.000000\n"
          ]
        },
        {
          "output_type": "display_data",
          "data": {
            "text/plain": [
              "<Figure size 1200x800 with 4 Axes>"
            ],
            "image/png": "[encoded data removed]"
          },
          "metadata": {}
        }
      ]
    },
    {
      "cell_type": "code",
      "source": [
        "import torch\n",
        "import torch.nn as nn\n",
        "import torchvision.transforms as transforms\n",
        "from torchvision.datasets import MNIST\n",
        "from torch.utils.data import DataLoader\n",
        "from sklearn.metrics import accuracy_score, f1_score\n",
        "import matplotlib.pyplot as plt\n"
      ],
      "metadata": {
        "id": "o7WSdPfoX6C-"
      },
      "execution_count": null,
      "outputs": []
    },
    {
      "cell_type": "code",
      "source": [
        "# Device configuration\n",
        "device = torch.device(\"cuda\" if torch.cuda.is_available() else \"cpu\")\n",
        "\n",
        "# -------------------------------\n",
        "# 1. Data Preparation\n",
        "# -------------------------------\n",
        "\n",
        "# Transformation for MNIST\n",
        "transform = transforms.Compose([\n",
        "    transforms.ToTensor(),\n",
        "    transforms.Normalize((0.5,), (0.5,)),  # Normalize to [-1, 1]\n",
        "])"
      ],
      "metadata": {
        "id": "oY5mz7TlX-yN"
      },
      "execution_count": null,
      "outputs": []
    },
    {
      "cell_type": "code",
      "source": [
        "# Load MNIST dataset\n",
        "train_dataset = MNIST(root=\"./data\", train=True, transform=transform, download=True)\n",
        "test_dataset = MNIST(root=\"./data\", train=False, transform=transform, download=True)\n",
        "\n",
        "# Dataloaders\n",
        "train_loader = DataLoader(train_dataset, batch_size=64, shuffle=True)\n",
        "test_loader = DataLoader(test_dataset, batch_size=64, shuffle=False)\n"
      ],
      "metadata": {
        "id": "FOu-f3xDYAG5"
      },
      "execution_count": null,
      "outputs": []
    },
    {
      "cell_type": "code",
      "source": [
        "# -------------------------------\n",
        "# 2. Vision Transformer Components\n",
        "# -------------------------------\n",
        "\n",
        "# Patch Embedding\n",
        "class PatchEmbedding(nn.Module):\n",
        "    def __init__(self, img_size=28, patch_size=7, in_channels=1, embedding_dim=64):\n",
        "        super().__init__()\n",
        "        self.n_patches = (img_size // patch_size) ** 2\n",
        "        self.projection = nn.Conv2d(in_channels, embedding_dim, kernel_size=patch_size, stride=patch_size)\n",
        "\n",
        "    def forward(self, x):\n",
        "        x = self.projection(x)  # Shape: (batch_size, embedding_dim, n_patches ** 0.5, n_patches ** 0.5)\n",
        "        x = x.flatten(2).transpose(1, 2)  # Shape: (batch_size, n_patches, embedding_dim)\n",
        "        return x\n",
        "\n",
        "# Multi-Head Self-Attention\n",
        "class MultiHeadSelfAttention(nn.Module):\n",
        "    def __init__(self, embedding_dim, num_heads):\n",
        "        super().__init__()\n",
        "        self.num_heads = num_heads\n",
        "        self.head_dim = embedding_dim // num_heads\n",
        "\n",
        "        self.query = nn.Linear(embedding_dim, embedding_dim)\n",
        "        self.key = nn.Linear(embedding_dim, embedding_dim)\n",
        "        self.value = nn.Linear(embedding_dim, embedding_dim)\n",
        "        self.fc_out = nn.Linear(embedding_dim, embedding_dim)\n",
        "\n",
        "    def forward(self, x):\n",
        "        batch_size, n_patches, embedding_dim = x.shape\n",
        "        q = self.query(x).reshape(batch_size, n_patches, self.num_heads, self.head_dim).permute(0, 2, 1, 3)\n",
        "        k = self.key(x).reshape(batch_size, n_patches, self.num_heads, self.head_dim).permute(0, 2, 1, 3)\n",
        "        v = self.value(x).reshape(batch_size, n_patches, self.num_heads, self.head_dim).permute(0, 2, 1, 3)\n",
        "\n",
        "        attention = torch.einsum(\"bhqd, bhkd -> bhqk\", q, k) / (self.head_dim ** 0.5)\n",
        "        attention = torch.nn.functional.softmax(attention, dim=-1)\n",
        "        out = torch.einsum(\"bhqk, bhvd -> bhqd\", attention, v)\n",
        "        out = out.permute(0, 2, 1, 3).reshape(batch_size, n_patches, embedding_dim)\n",
        "        return self.fc_out(out)\n",
        "\n",
        "# Transformer Block\n",
        "class TransformerBlock(nn.Module):\n",
        "    def __init__(self, embedding_dim, num_heads, dropout=0.1):\n",
        "        super().__init__()\n",
        "        self.attention = MultiHeadSelfAttention(embedding_dim, num_heads)\n",
        "        self.norm1 = nn.LayerNorm(embedding_dim)\n",
        "        self.mlp = nn.Sequential(\n",
        "            nn.Linear(embedding_dim, embedding_dim * 4),\n",
        "            nn.GELU(),\n",
        "            nn.Linear(embedding_dim * 4, embedding_dim),\n",
        "        )\n",
        "        self.norm2 = nn.LayerNorm(embedding_dim)\n",
        "        self.dropout = nn.Dropout(dropout)\n",
        "\n",
        "    def forward(self, x):\n",
        "        attention = self.attention(x)\n",
        "        x = self.norm1(x + self.dropout(attention))\n",
        "        forward = self.mlp(x)\n",
        "        x = self.norm2(x + self.dropout(forward))\n",
        "        return x\n"
      ],
      "metadata": {
        "id": "I2efmnqeYEnA"
      },
      "execution_count": null,
      "outputs": []
    },
    {
      "cell_type": "code",
      "source": [
        "# Vision Transformer\n",
        "class VisionTransformer(nn.Module):\n",
        "    def __init__(self, img_size=28, patch_size=7, in_channels=1, num_classes=10, embedding_dim=64, num_heads=8, depth=6, dropout=0.1):\n",
        "        super().__init__()\n",
        "        self.patch_embedding = PatchEmbedding(img_size, patch_size, in_channels, embedding_dim)\n",
        "        self.cls_token = nn.Parameter(torch.randn(1, 1, embedding_dim))\n",
        "        self.positional_encoding = nn.Parameter(torch.randn(1, 1 + self.patch_embedding.n_patches, embedding_dim))\n",
        "        self.transformer = nn.Sequential(*[TransformerBlock(embedding_dim, num_heads, dropout) for _ in range(depth)])\n",
        "        self.fc = nn.Linear(embedding_dim, num_classes)\n",
        "\n",
        "    def forward(self, x):\n",
        "        batch_size = x.shape[0]\n",
        "        x = self.patch_embedding(x)\n",
        "        cls_tokens = self.cls_token.expand(batch_size, -1, -1)  # Shape: (batch_size, 1, embedding_dim)\n",
        "        x = torch.cat([cls_tokens, x], dim=1)  # Append cls_token\n",
        "        x += self.positional_encoding[:, : x.shape[1], :]\n",
        "        x = self.transformer(x)\n",
        "        cls_output = x[:, 0]  # Extract cls_token output\n",
        "        return self.fc(cls_output)"
      ],
      "metadata": {
        "id": "P0WWIlXHYaqp"
      },
      "execution_count": null,
      "outputs": []
    },
    {
      "cell_type": "code",
      "source": [
        "# -------------------------------\n",
        "# 3. Training and Evaluation\n",
        "# -------------------------------\n",
        "\n",
        "def train_model(model, train_loader, optimizer, device, num_epochs=5):\n",
        "    model.train()\n",
        "    for epoch in range(num_epochs):\n",
        "        epoch_loss = 0\n",
        "        for images, labels in train_loader:\n",
        "            images, labels = images.to(device), labels.to(device)\n",
        "            optimizer.zero_grad()\n",
        "            outputs = model(images)\n",
        "            loss = nn.CrossEntropyLoss()(outputs, labels)\n",
        "            loss.backward()\n",
        "            optimizer.step()\n",
        "            epoch_loss += loss.item()\n",
        "        print(f\"Epoch [{epoch+1}/{num_epochs}], Loss: {epoch_loss/len(train_loader):.4f}\")\n",
        "\n",
        "def evaluate_model(model, test_loader, device):\n",
        "    model.eval()\n",
        "    y_true = []\n",
        "    y_pred = []\n",
        "    with torch.no_grad():\n",
        "        for images, labels in test_loader:\n",
        "            images, labels = images.to(device), labels.to(device)\n",
        "            outputs = model(images)\n",
        "            _, preds = torch.max(outputs, 1)\n",
        "            y_true.extend(labels.cpu().numpy())\n",
        "            y_pred.extend(preds.cpu().numpy())\n",
        "    accuracy = accuracy_score(y_true, y_pred)\n",
        "    f1 = f1_score(y_true, y_pred, average=\"weighted\")\n",
        "    print(f\"Accuracy: {accuracy:.4f}, F1 Score: {f1:.4f}\")\n",
        "\n",
        "# Initialize and train the Vision Transformer\n",
        "model = VisionTransformer().to(device)\n",
        "optimizer = torch.optim.Adam(model.parameters(), lr=3e-4)\n",
        "train_model(model, train_loader, optimizer, device, num_epochs=5)\n",
        "evaluate_model(model, test_loader, device)"
      ],
      "metadata": {
        "colab": {
          "base_uri": "https://localhost:8080/"
        },
        "id": "RV72hYraYiMr",
        "outputId": "6c2094d9-d358-454f-dccd-9907eb19f037"
      },
      "execution_count": null,
      "outputs": [
        {
          "output_type": "stream",
          "name": "stdout",
          "text": [
            "Epoch [1/5], Loss: 1.4821\n",
            "Epoch [2/5], Loss: 0.8450\n",
            "Epoch [3/5], Loss: 0.5018\n",
            "Epoch [4/5], Loss: 0.3636\n",
            "Epoch [5/5], Loss: 0.3068\n",
            "Accuracy: 0.9177, F1 Score: 0.9177\n"
          ]
        }
      ]
    },
    {
      "cell_type": "code",
      "source": [
        "# -------------------------------\n",
        "# 4. Visualization of Results\n",
        "# -------------------------------\n",
        "\n",
        "# Visualizing sample predictions\n",
        "model.eval()\n",
        "images, labels = next(iter(test_loader))\n",
        "images = images.to(device)\n",
        "outputs = model(images)\n",
        "_, preds = torch.max(outputs, 1)\n",
        "\n",
        "fig, axes = plt.subplots(1, 5, figsize=(15, 5))\n",
        "for i in range(5):\n",
        "    axes[i].imshow(images[i].cpu().squeeze(), cmap=\"gray\")\n",
        "    axes[i].set_title(f\"True: {labels[i].item()}, Pred: {preds[i].item()}\")\n",
        "    axes[i].axis(\"off\")\n",
        "plt.show()"
      ],
      "metadata": {
        "colab": {
          "base_uri": "https://localhost:8080/",
          "height": 254
        },
        "id": "R4f9NpSkZNaf",
        "outputId": "faf517a4-2330-46a9-dc45-c4d0c33e79a3"
      },
      "execution_count": null,
      "outputs": [
        {
          "output_type": "display_data",
          "data": {
            "text/plain": [
              "<Figure size 1500x500 with 5 Axes>"
            ],
            "image/png": "[encoded data removed]"
          },
          "metadata": {}
        }
      ]
    }
  ]
}